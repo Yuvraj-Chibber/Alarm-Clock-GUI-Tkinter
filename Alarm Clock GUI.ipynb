{
 "cells": [
  {
   "cell_type": "code",
   "execution_count": 2,
   "id": "678f934f",
   "metadata": {},
   "outputs": [],
   "source": [
    "from tkinter import *\n",
    "import datetime\n",
    "import time\n",
    "import winsound\n",
    "from threading import *"
   ]
  },
  {
   "cell_type": "code",
   "execution_count": 5,
   "id": "000b8e4c",
   "metadata": {},
   "outputs": [],
   "source": [
    "new=Tk()\n",
    "new.geometry(\"626x233\")\n",
    "\n",
    "new.configure(background='yellow')\n",
    "canvas=Canvas(new,width=626,height=233)\n",
    "image=ImageTk.PhotoImage(Image.open(\"C:\\\\Users\\\\Sysadmin\\\\OneDrive\\\\Documents\\\\Almbg.jpg\"))\n",
    "canvas.create_image(0,0,anchor=NW,image=image)\n",
    "canvas.place(x=0,y=0)\n",
    "new.title('Alarm clock')\n",
    "def Thed():\n",
    "    p=Thread(target=alarm)\n",
    "    p.start()\n",
    "def alarm():\n",
    "    while True:\n",
    "        alm_time= f\"{hour.get()}:{minute.get()}:{second.get()}\"\n",
    "        time.sleep(1)\n",
    "        cur_time=datetime.datetime.now().strftime(\"%H:%M:%S\")\n",
    "        print(cur_time,alm_time)\n",
    "        if cur_time==alm_time:\n",
    "            \n",
    "            \n",
    "                print(\"Alarm is ringing !!!\")\n",
    "                fq=2000\n",
    "                winsound.Beep(fq,5000)\n",
    "                break\n",
    "            \n",
    "Label(new,text=\"Alarm Clock\",font=(\"Arial 20 bold\"),fg=\"blue\").pack(pady=10)\n",
    "Label(new,text=\"Set Time here\",font=(\"Arial 16 bold\"),fg=\"brown\").pack()\n",
    "frame=Frame(new)\n",
    "frame.pack()\n",
    "hour=StringVar(new)\n",
    "hours=('00','01','02','03','04','05','06','07','08','09','10','11','12','13','14','15','16','17','18','19','20','21','22','23')\n",
    "hour.set(hours[0])\n",
    "Hrs=OptionMenu(frame,hour,*hours)\n",
    "Hrs.pack(side=LEFT)\n",
    "minute=StringVar(new)\n",
    "minutes= ('00', '01', '02', '03', '04', '05', '06', '07',\n",
    "           '08', '09', '10', '11', '12', '13', '14', '15',\n",
    "           '16', '17', '18', '19', '20', '21', '22', '23',\n",
    "           '24', '25', '26', '27', '28', '29', '30', '31',\n",
    "           '32', '33', '34', '35', '36', '37', '38', '39',\n",
    "           '40', '41', '42', '43', '44', '45', '46', '47',\n",
    "           '48', '49', '50', '51', '52', '53', '54', '55',\n",
    "           '56', '57', '58', '59', '60')\n",
    "minute.set(minutes[0])\n",
    "Mins=OptionMenu(frame,minute,*minutes)\n",
    "Mins.pack(side=LEFT)\n",
    "second=StringVar(new)\n",
    "seconds= ('00', '01', '02', '03', '04', '05', '06', '07',\n",
    "           '08', '09', '10', '11', '12', '13', '14', '15',\n",
    "           '16', '17', '18', '19', '20', '21', '22', '23',\n",
    "           '24', '25', '26', '27', '28', '29', '30', '31',\n",
    "           '32', '33', '34', '35', '36', '37', '38', '39',\n",
    "           '40', '41', '42', '43', '44', '45', '46', '47',\n",
    "           '48', '49', '50', '51', '52', '53', '54', '55',\n",
    "           '56', '57', '58', '59', '60')\n",
    "second.set(seconds[0])\n",
    "secs=OptionMenu(frame,second,*seconds)\n",
    "secs.pack(side=LEFT)\n",
    "Button(new,text='Alarm Button',font=(\"Arial 16 bold\"),fg=\"red\",command=Thed).pack(pady=10)\n",
    "new.mainloop()"
   ]
  },
  {
   "cell_type": "code",
   "execution_count": 3,
   "id": "ca23d2b4",
   "metadata": {},
   "outputs": [],
   "source": [
    "from PIL import ImageTk,Image"
   ]
  },
  {
   "cell_type": "code",
   "execution_count": null,
   "id": "c68c75ac",
   "metadata": {},
   "outputs": [],
   "source": []
  }
 ],
 "metadata": {
  "kernelspec": {
   "display_name": "Python 3",
   "language": "python",
   "name": "python3"
  },
  "language_info": {
   "codemirror_mode": {
    "name": "ipython",
    "version": 3
   },
   "file_extension": ".py",
   "mimetype": "text/x-python",
   "name": "python",
   "nbconvert_exporter": "python",
   "pygments_lexer": "ipython3",
   "version": "3.8.10"
  }
 },
 "nbformat": 4,
 "nbformat_minor": 5
}
